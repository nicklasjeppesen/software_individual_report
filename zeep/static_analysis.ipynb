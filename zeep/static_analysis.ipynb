{
 "cells": [
  {
   "cell_type": "markdown",
   "metadata": {
    "id": "ASCHKm-WYHqy"
   },
   "source": [
    "# Case Study: Zeeguu/API - static analyze\n",
    "- Backend of a web application that supports [free reading in foreign languages](https://zeeguu.org)\n",
    "- Open source [repository on GH](https://github.com/zeeguu/API/)\n",
    "\n"
   ]
  },
  {
   "cell_type": "markdown",
   "metadata": {
    "id": "UpiozxqmVqUc"
   },
   "source": [
    "# Basic Data Gathering\n",
    "\n",
    "  - Basic used case, for creating a sequence diagram of the coding patch. \n",
    "\n",
    "  - file: `./zeeguu_core/model/user.py` <==>\n",
    "  - module: `zeeguu_core.model.User`\n",
    "\n",
    "\n"
   ]
  },
  {
   "cell_type": "code",
   "execution_count": 1,
   "metadata": {
    "colab": {
     "base_uri": "https://localhost:8080/"
    },
    "id": "Iykfb-UYnqux",
    "outputId": "73667590-20fa-4332-d935-dd90bb0c5a41"
   },
   "outputs": [
    {
     "name": "stdout",
     "output_type": "stream",
     "text": [
      "Requirement already satisfied: gitpython in /Users/nicklasjeppesen/opt/miniconda3/lib/python3.8/site-packages (3.1.43)\n",
      "Requirement already satisfied: gitdb<5,>=4.0.1 in /Users/nicklasjeppesen/opt/miniconda3/lib/python3.8/site-packages (from gitpython) (4.0.11)\n",
      "Requirement already satisfied: smmap<6,>=3.0.1 in /Users/nicklasjeppesen/opt/miniconda3/lib/python3.8/site-packages (from gitdb<5,>=4.0.1->gitpython) (5.0.1)\n",
      "\u001b[33mWARNING: You are using pip version 21.0.1; however, version 24.0 is available.\n",
      "You should consider upgrading via the '/Users/nicklasjeppesen/opt/miniconda3/bin/python -m pip install --upgrade pip' command.\u001b[0m\n",
      "Requirement already satisfied: pyvis in /Users/nicklasjeppesen/opt/miniconda3/lib/python3.8/site-packages (0.3.2)\n",
      "Requirement already satisfied: jsonpickle>=1.4.1 in /Users/nicklasjeppesen/opt/miniconda3/lib/python3.8/site-packages (from pyvis) (3.0.4)\n",
      "Requirement already satisfied: ipython>=5.3.0 in /Users/nicklasjeppesen/opt/miniconda3/lib/python3.8/site-packages (from pyvis) (7.20.0)\n",
      "Requirement already satisfied: jinja2>=2.9.6 in /Users/nicklasjeppesen/opt/miniconda3/lib/python3.8/site-packages (from pyvis) (2.11.3)\n",
      "Requirement already satisfied: networkx>=1.11 in /Users/nicklasjeppesen/opt/miniconda3/lib/python3.8/site-packages (from pyvis) (2.5.1)\n",
      "Requirement already satisfied: prompt-toolkit!=3.0.0,!=3.0.1,<3.1.0,>=2.0.0 in /Users/nicklasjeppesen/opt/miniconda3/lib/python3.8/site-packages (from ipython>=5.3.0->pyvis) (3.0.16)\n",
      "Requirement already satisfied: backcall in /Users/nicklasjeppesen/opt/miniconda3/lib/python3.8/site-packages (from ipython>=5.3.0->pyvis) (0.2.0)\n",
      "Requirement already satisfied: setuptools>=18.5 in /Users/nicklasjeppesen/opt/miniconda3/lib/python3.8/site-packages (from ipython>=5.3.0->pyvis) (53.0.0)\n",
      "Requirement already satisfied: pexpect>4.3 in /Users/nicklasjeppesen/opt/miniconda3/lib/python3.8/site-packages (from ipython>=5.3.0->pyvis) (4.8.0)\n",
      "Requirement already satisfied: pygments in /Users/nicklasjeppesen/opt/miniconda3/lib/python3.8/site-packages (from ipython>=5.3.0->pyvis) (2.8.0)\n",
      "Requirement already satisfied: appnope in /Users/nicklasjeppesen/opt/miniconda3/lib/python3.8/site-packages (from ipython>=5.3.0->pyvis) (0.1.2)\n",
      "Requirement already satisfied: decorator in /Users/nicklasjeppesen/opt/miniconda3/lib/python3.8/site-packages (from ipython>=5.3.0->pyvis) (4.4.2)\n",
      "Requirement already satisfied: pickleshare in /Users/nicklasjeppesen/opt/miniconda3/lib/python3.8/site-packages (from ipython>=5.3.0->pyvis) (0.7.5)\n",
      "Requirement already satisfied: jedi>=0.16 in /Users/nicklasjeppesen/opt/miniconda3/lib/python3.8/site-packages (from ipython>=5.3.0->pyvis) (0.18.0)\n",
      "Requirement already satisfied: traitlets>=4.2 in /Users/nicklasjeppesen/opt/miniconda3/lib/python3.8/site-packages (from ipython>=5.3.0->pyvis) (5.0.5)\n",
      "Requirement already satisfied: parso<0.9.0,>=0.8.0 in /Users/nicklasjeppesen/opt/miniconda3/lib/python3.8/site-packages (from jedi>=0.16->ipython>=5.3.0->pyvis) (0.8.1)\n",
      "Requirement already satisfied: MarkupSafe>=0.23 in /Users/nicklasjeppesen/opt/miniconda3/lib/python3.8/site-packages (from jinja2>=2.9.6->pyvis) (1.1.1)\n",
      "Requirement already satisfied: ptyprocess>=0.5 in /Users/nicklasjeppesen/opt/miniconda3/lib/python3.8/site-packages (from pexpect>4.3->ipython>=5.3.0->pyvis) (0.7.0)\n",
      "Requirement already satisfied: wcwidth in /Users/nicklasjeppesen/opt/miniconda3/lib/python3.8/site-packages (from prompt-toolkit!=3.0.0,!=3.0.1,<3.1.0,>=2.0.0->ipython>=5.3.0->pyvis) (0.2.5)\n",
      "Requirement already satisfied: ipython-genutils in /Users/nicklasjeppesen/opt/miniconda3/lib/python3.8/site-packages (from traitlets>=4.2->ipython>=5.3.0->pyvis) (0.2.0)\n",
      "\u001b[33mWARNING: You are using pip version 21.0.1; however, version 24.0 is available.\n",
      "You should consider upgrading via the '/Users/nicklasjeppesen/opt/miniconda3/bin/python -m pip install --upgrade pip' command.\u001b[0m\n"
     ]
    }
   ],
   "source": [
    "# Installing Required Dependencies\n",
    "import sys\n",
    "sys.version\n",
    "!{sys.executable} -m pip install gitpython\n",
    "!{sys.executable} -m pip install pyvis"
   ]
  },
  {
   "cell_type": "code",
   "execution_count": 2,
   "metadata": {
    "colab": {
     "base_uri": "https://localhost:8080/"
    },
    "id": "0ruTtX88Tb-w",
    "outputId": "4ef4ff72-737b-4bf7-bff4-303f4b9e890b"
   },
   "outputs": [
    {
     "name": "stdout",
     "output_type": "stream",
     "text": [
      "/Users/nicklasjeppesen/Desktop/software_individual_report/zeep\n"
     ]
    }
   ],
   "source": [
    "# In Collab our notebook runs in a temporary mounted file system\n",
    "# Let's print the name of the folder where our script runs\n",
    "import os\n",
    "cwd = os.getcwd()\n",
    "print(cwd)\n"
   ]
  },
  {
   "cell_type": "code",
   "execution_count": 71,
   "metadata": {
    "id": "Ssb7D6FsoD6F"
   },
   "outputs": [],
   "source": [
    "# Let's declare a var for the path where we're going to download a repository\n",
    "# Warning: this must end in /\n",
    "CODE_ROOT_FOLDER=cwd+\"/content/zeeguu_api/\"\n"
   ]
  },
  {
   "cell_type": "code",
   "execution_count": 4,
   "metadata": {
    "id": "NeJVTDwroSxt"
   },
   "outputs": [],
   "source": [
    "from git import Repo\n",
    "# GitPython is a library that allows us to work easily with git from Python\n",
    "# https://gitpython.readthedocs.io/en/stable/tutorial.html\n",
    "\n",
    "\n",
    "# If the file exists, it means we've already downloaded\n",
    "#if not os.path.exists(CODE_ROOT_FOLDER):\n",
    "if not os.path.exists(CODE_ROOT_FOLDER):\n",
    "  Repo.clone_from(\"https://github.com/zeeguu/api\", CODE_ROOT_FOLDER)\n"
   ]
  },
  {
   "cell_type": "code",
   "execution_count": 72,
   "metadata": {},
   "outputs": [
    {
     "data": {
      "text/plain": [
       "True"
      ]
     },
     "execution_count": 72,
     "metadata": {},
     "output_type": "execute_result"
    }
   ],
   "source": [
    "ENDPOINT_ONE = CODE_ROOT_FOLDER+\"zeeguu/api/endpoints/activity_tracking.py\"\n",
    "ENDPOINT_TWO = CODE_ROOT_FOLDER+\"zeeguu/api/endpoints/user_articles.py\"\n",
    "os.path.exists(ENDPOINT_ONE)\n",
    "os.path.exists(ENDPOINT_TWO)"
   ]
  },
  {
   "cell_type": "markdown",
   "metadata": {},
   "source": [
    "# Code library: \n",
    "\n"
   ]
  },
  {
   "cell_type": "code",
   "execution_count": 84,
   "metadata": {
    "colab": {
     "base_uri": "https://localhost:8080/"
    },
    "id": "1C9goF1zob_U",
    "outputId": "4949cf95-0886-4271-f829-4794675e5388"
   },
   "outputs": [],
   "source": [
    "# naïve way of extracting imports using regular expressions\n",
    "import re\n",
    "\n",
    "def methods_in_class(cls):\n",
    "\treturn [\n",
    "\t\t(name, object) \n",
    "\t\tfor (name, object) \n",
    "\t\t\tin cls.__dict__.items() \n",
    "\t\tif hasattr(object, '__call__')]\n",
    "#methods_in_class(Foo)\n",
    "\n",
    "# extracting a module name from a file name\n",
    "def module_name_from_file_path(full_path):\n",
    "\n",
    "    # e.g. ../core/model/user.py -> zeeguu.core.model.user\n",
    "\n",
    "    file_name = full_path[len(CODE_ROOT_FOLDER):]\n",
    "    file_name = file_name.replace(\"/__init__.py\",\"\")\n",
    "    file_name = file_name.replace(\"/\",\".\")\n",
    "    file_name = file_name.replace(\".py\",\"\")\n",
    "    return file_name\n",
    "\n",
    "# extracting a module name from a file name\n",
    "def module_name_to_file_path(file_name):\n",
    "\n",
    "    # e.g. 'zeeguu.core.model.user' --> cwd+/content/zeeguu-api/zeeguu/core/model/user.py \n",
    "    #file_name = full_path[len(CODE_ROOT_FOLDER):]\n",
    "    file_name = file_name.replace(\".\",\"/\")\n",
    "    return cwd+\"/content/zeeguu-api/\"+file_name+\".py\"\n",
    "\n",
    "\n",
    "\n",
    "# helper function to get a file path w/o having to always provide the /content/zeeguu-api/ prefix\n",
    "def file_path(file_name):\n",
    "    return CODE_ROOT_FOLDER+file_name\n",
    "\n",
    "#assert 'zeeguu.core.model.user' == module_name_from_file_path(file_path('zeeguu/core/model/user.py'))\n",
    "\n",
    "\n",
    "# we assume that imports are always at the\n",
    "# TODO for you: add full support for imports; this is not complete...\n",
    "def import_from_line(line):\n",
    "\n",
    "    # regex patterns used\n",
    "    #   ^  - beginning of line\n",
    "    #   \\S - anything that is not space\n",
    "    #   +  - at least one occurrence of previous\n",
    "    #  ( ) - capture group (read more at: https://pynative.com/python-regex-capturing-groups/)\n",
    "    try:\n",
    "      y = re.search(\"^from (\\S+)\", line)\n",
    "      if not y:\n",
    "        y = re.search(\"^import (\\S+)\", line)\n",
    "      return y.group(1)\n",
    "    except:\n",
    "      return None\n",
    "\n",
    "\n",
    "# extracts all the imported modules from a file\n",
    "# returns a module of the form zeeguu_core.model.bookmark, e.g.\n",
    "def imports_from_file(file):\n",
    "\n",
    "    all_imports = []\n",
    "\n",
    "    lines = [line for line in open(file)]\n",
    "\n",
    "    for line in lines:\n",
    "        imp = import_from_line(line)\n",
    "\n",
    "        if imp:\n",
    "            all_imports.append(imp)\n",
    "\n",
    "    return all_imports\n",
    "\n",
    "#imports_from_file(file_path('/zeeguu/core/model/user.py'))\n",
    "#imports_from_file(file_path('/zeeguu/api/endpoints/activity_tracking.py'))\n",
    "\n",
    "def get_called_functions(func):\n",
    "    called_functions = []\n",
    "\n",
    "    # Get the source code of the function\n",
    "    source_lines, _ = inspect.getsourcelines(func)\n",
    "    source_code = ''.join(source_lines)\n",
    "\n",
    "    # Define the regex pattern to match function calls\n",
    "    function_call_pattern = r'(\\w+)\\('\n",
    "\n",
    "    # Find all matches of function calls in the source code\n",
    "    matches = re.findall(function_call_pattern, source_code)\n",
    "\n",
    "    # Filter out function names that are not defined in the global scope\n",
    "    for match in matches:\n",
    "        if match in globals() and callable(globals()[match]):\n",
    "            if match != func.__name__:\n",
    "                called_functions.append(match)\n",
    "\n",
    "    return called_functions\n",
    "\n",
    "def find_python_functions(file):\n",
    "    pattern = r\"def\\s+([a-zA-Z_][a-zA-Z0-9_]*)\\s*\\([^()]*\\)\\s*:\"\n",
    "    matches = re.findall(pattern, file)\n",
    "    return matches\n"
   ]
  },
  {
   "cell_type": "code",
   "execution_count": 62,
   "metadata": {},
   "outputs": [
    {
     "name": "stdout",
     "output_type": "stream",
     "text": [
      "/Users/nicklasjeppesen/Desktop/software_individual_report/zeep/content/zeeguu-api/zeeguu/core/model/user.py\n"
     ]
    },
    {
     "data": {
      "text/plain": [
       "'/Users/nicklasjeppesen/Desktop/software_individual_report/zeep/content/zeeguu-api/zeeguu/core/model/user.py'"
      ]
     },
     "execution_count": 62,
     "metadata": {},
     "output_type": "execute_result"
    }
   ],
   "source": [
    "import ast\n",
    "import importlib\n",
    "import importlib.util\n",
    "\n",
    "f = open(cwd+\"/content/zeeguu-api/zeeguu/core/model/user.py\")\n",
    "user_ast = ast.parse(f.read())\n",
    "#print(user_ast.body[0])  \n",
    "print(cwd+\"/content/zeeguu-api/zeeguu/core/model/user.py\")\n",
    "stringmodule = module_name_from_file_path(cwd+\"/content/zeeguu-api/zeeguu/core/model/user.py\")\n",
    "\n",
    "module_name_to_file_path(stringmodule)\n",
    "\n",
    "\n",
    "#for node in ast.walk(user_ast):\n",
    "   # print(node.__dict__)\n",
    "   #print(\"children: \" + str([x for x in ast.iter_child_nodes(node)]) + \"\\\\n\")\n",
    "\n"
   ]
  },
  {
   "cell_type": "code",
   "execution_count": 87,
   "metadata": {},
   "outputs": [],
   "source": [
    "import sys\n",
    "\n",
    "sys.path.append(\"/zeep/content/zeeguu_api/zeeguu\")\n",
    "\n",
    "from pathlib import Path\n",
    "\n",
    "\n",
    "dd = file_path('zeeguu/core/model/bookmark.py')\n",
    "lines = Path(dd).read_text()\n",
    "result = find_python_functions(lines) # return list of functions. \n",
    "\n",
    "\n",
    "\n",
    "\n",
    "\n",
    "\n"
   ]
  },
  {
   "cell_type": "code",
   "execution_count": 121,
   "metadata": {},
   "outputs": [
    {
     "name": "stdout",
     "output_type": "stream",
     "text": [
      "/Users/nicklasjeppesen/Desktop/software_individual_report/zeep/content/zeeguu_api/zeeguu/api/endpoints/activity_tracking.py\n",
      "Function body:\n"
     ]
    },
    {
     "ename": "TypeError",
     "evalue": "module, class, method, function, traceback, frame, or code object was expected, got str",
     "output_type": "error",
     "traceback": [
      "\u001b[0;31m---------------------------------------------------------------------------\u001b[0m",
      "\u001b[0;31mTypeError\u001b[0m                                 Traceback (most recent call last)",
      "\u001b[0;32m<ipython-input-121-dda5f2dfb1ad>\u001b[0m in \u001b[0;36m<module>\u001b[0;34m\u001b[0m\n\u001b[1;32m     58\u001b[0m \u001b[0;32mif\u001b[0m \u001b[0mfunction_body\u001b[0m \u001b[0;32mis\u001b[0m \u001b[0;32mnot\u001b[0m \u001b[0;32mNone\u001b[0m\u001b[0;34m:\u001b[0m\u001b[0;34m\u001b[0m\u001b[0;34m\u001b[0m\u001b[0m\n\u001b[1;32m     59\u001b[0m     \u001b[0mprint\u001b[0m\u001b[0;34m(\u001b[0m\u001b[0;34m\"Function body:\"\u001b[0m\u001b[0;34m)\u001b[0m\u001b[0;34m\u001b[0m\u001b[0;34m\u001b[0m\u001b[0m\n\u001b[0;32m---> 60\u001b[0;31m     \u001b[0mprint\u001b[0m\u001b[0;34m(\u001b[0m\u001b[0minspect\u001b[0m\u001b[0;34m.\u001b[0m\u001b[0mgetsource\u001b[0m\u001b[0;34m(\u001b[0m\u001b[0mfunction_body\u001b[0m\u001b[0;34m.\u001b[0m\u001b[0mname\u001b[0m\u001b[0;34m)\u001b[0m\u001b[0;34m)\u001b[0m\u001b[0;34m\u001b[0m\u001b[0;34m\u001b[0m\u001b[0m\n\u001b[0m\u001b[1;32m     61\u001b[0m     \u001b[0;31m#for statement in function_body:\u001b[0m\u001b[0;34m\u001b[0m\u001b[0;34m\u001b[0m\u001b[0;34m\u001b[0m\u001b[0m\n\u001b[1;32m     62\u001b[0m       \u001b[0;31m#  print(ast.dump(statement))\u001b[0m\u001b[0;34m\u001b[0m\u001b[0;34m\u001b[0m\u001b[0;34m\u001b[0m\u001b[0m\n",
      "\u001b[0;32m~/opt/miniconda3/lib/python3.8/inspect.py\u001b[0m in \u001b[0;36mgetsource\u001b[0;34m(object)\u001b[0m\n\u001b[1;32m    983\u001b[0m     \u001b[0;32mor\u001b[0m \u001b[0mcode\u001b[0m \u001b[0mobject\u001b[0m\u001b[0;34m.\u001b[0m  \u001b[0mThe\u001b[0m \u001b[0msource\u001b[0m \u001b[0mcode\u001b[0m \u001b[0;32mis\u001b[0m \u001b[0mreturned\u001b[0m \u001b[0;32mas\u001b[0m \u001b[0ma\u001b[0m \u001b[0msingle\u001b[0m \u001b[0mstring\u001b[0m\u001b[0;34m.\u001b[0m  \u001b[0mAn\u001b[0m\u001b[0;34m\u001b[0m\u001b[0;34m\u001b[0m\u001b[0m\n\u001b[1;32m    984\u001b[0m     OSError is raised if the source code cannot be retrieved.\"\"\"\n\u001b[0;32m--> 985\u001b[0;31m     \u001b[0mlines\u001b[0m\u001b[0;34m,\u001b[0m \u001b[0mlnum\u001b[0m \u001b[0;34m=\u001b[0m \u001b[0mgetsourcelines\u001b[0m\u001b[0;34m(\u001b[0m\u001b[0mobject\u001b[0m\u001b[0;34m)\u001b[0m\u001b[0;34m\u001b[0m\u001b[0;34m\u001b[0m\u001b[0m\n\u001b[0m\u001b[1;32m    986\u001b[0m     \u001b[0;32mreturn\u001b[0m \u001b[0;34m''\u001b[0m\u001b[0;34m.\u001b[0m\u001b[0mjoin\u001b[0m\u001b[0;34m(\u001b[0m\u001b[0mlines\u001b[0m\u001b[0;34m)\u001b[0m\u001b[0;34m\u001b[0m\u001b[0;34m\u001b[0m\u001b[0m\n\u001b[1;32m    987\u001b[0m \u001b[0;34m\u001b[0m\u001b[0m\n",
      "\u001b[0;32m~/opt/miniconda3/lib/python3.8/inspect.py\u001b[0m in \u001b[0;36mgetsourcelines\u001b[0;34m(object)\u001b[0m\n\u001b[1;32m    965\u001b[0m     raised if the source code cannot be retrieved.\"\"\"\n\u001b[1;32m    966\u001b[0m     \u001b[0mobject\u001b[0m \u001b[0;34m=\u001b[0m \u001b[0munwrap\u001b[0m\u001b[0;34m(\u001b[0m\u001b[0mobject\u001b[0m\u001b[0;34m)\u001b[0m\u001b[0;34m\u001b[0m\u001b[0;34m\u001b[0m\u001b[0m\n\u001b[0;32m--> 967\u001b[0;31m     \u001b[0mlines\u001b[0m\u001b[0;34m,\u001b[0m \u001b[0mlnum\u001b[0m \u001b[0;34m=\u001b[0m \u001b[0mfindsource\u001b[0m\u001b[0;34m(\u001b[0m\u001b[0mobject\u001b[0m\u001b[0;34m)\u001b[0m\u001b[0;34m\u001b[0m\u001b[0;34m\u001b[0m\u001b[0m\n\u001b[0m\u001b[1;32m    968\u001b[0m \u001b[0;34m\u001b[0m\u001b[0m\n\u001b[1;32m    969\u001b[0m     \u001b[0;32mif\u001b[0m \u001b[0mistraceback\u001b[0m\u001b[0;34m(\u001b[0m\u001b[0mobject\u001b[0m\u001b[0;34m)\u001b[0m\u001b[0;34m:\u001b[0m\u001b[0;34m\u001b[0m\u001b[0;34m\u001b[0m\u001b[0m\n",
      "\u001b[0;32m~/opt/miniconda3/lib/python3.8/inspect.py\u001b[0m in \u001b[0;36mfindsource\u001b[0;34m(object)\u001b[0m\n\u001b[1;32m    778\u001b[0m     is raised if the source code cannot be retrieved.\"\"\"\n\u001b[1;32m    779\u001b[0m \u001b[0;34m\u001b[0m\u001b[0m\n\u001b[0;32m--> 780\u001b[0;31m     \u001b[0mfile\u001b[0m \u001b[0;34m=\u001b[0m \u001b[0mgetsourcefile\u001b[0m\u001b[0;34m(\u001b[0m\u001b[0mobject\u001b[0m\u001b[0;34m)\u001b[0m\u001b[0;34m\u001b[0m\u001b[0;34m\u001b[0m\u001b[0m\n\u001b[0m\u001b[1;32m    781\u001b[0m     \u001b[0;32mif\u001b[0m \u001b[0mfile\u001b[0m\u001b[0;34m:\u001b[0m\u001b[0;34m\u001b[0m\u001b[0;34m\u001b[0m\u001b[0m\n\u001b[1;32m    782\u001b[0m         \u001b[0;31m# Invalidate cache if needed.\u001b[0m\u001b[0;34m\u001b[0m\u001b[0;34m\u001b[0m\u001b[0;34m\u001b[0m\u001b[0m\n",
      "\u001b[0;32m~/opt/miniconda3/lib/python3.8/inspect.py\u001b[0m in \u001b[0;36mgetsourcefile\u001b[0;34m(object)\u001b[0m\n\u001b[1;32m    694\u001b[0m     \u001b[0mReturn\u001b[0m \u001b[0;32mNone\u001b[0m \u001b[0;32mif\u001b[0m \u001b[0mno\u001b[0m \u001b[0mway\u001b[0m \u001b[0mcan\u001b[0m \u001b[0mbe\u001b[0m \u001b[0midentified\u001b[0m \u001b[0mto\u001b[0m \u001b[0mget\u001b[0m \u001b[0mthe\u001b[0m \u001b[0msource\u001b[0m\u001b[0;34m.\u001b[0m\u001b[0;34m\u001b[0m\u001b[0;34m\u001b[0m\u001b[0m\n\u001b[1;32m    695\u001b[0m     \"\"\"\n\u001b[0;32m--> 696\u001b[0;31m     \u001b[0mfilename\u001b[0m \u001b[0;34m=\u001b[0m \u001b[0mgetfile\u001b[0m\u001b[0;34m(\u001b[0m\u001b[0mobject\u001b[0m\u001b[0;34m)\u001b[0m\u001b[0;34m\u001b[0m\u001b[0;34m\u001b[0m\u001b[0m\n\u001b[0m\u001b[1;32m    697\u001b[0m     \u001b[0mall_bytecode_suffixes\u001b[0m \u001b[0;34m=\u001b[0m \u001b[0mimportlib\u001b[0m\u001b[0;34m.\u001b[0m\u001b[0mmachinery\u001b[0m\u001b[0;34m.\u001b[0m\u001b[0mDEBUG_BYTECODE_SUFFIXES\u001b[0m\u001b[0;34m[\u001b[0m\u001b[0;34m:\u001b[0m\u001b[0;34m]\u001b[0m\u001b[0;34m\u001b[0m\u001b[0;34m\u001b[0m\u001b[0m\n\u001b[1;32m    698\u001b[0m     \u001b[0mall_bytecode_suffixes\u001b[0m \u001b[0;34m+=\u001b[0m \u001b[0mimportlib\u001b[0m\u001b[0;34m.\u001b[0m\u001b[0mmachinery\u001b[0m\u001b[0;34m.\u001b[0m\u001b[0mOPTIMIZED_BYTECODE_SUFFIXES\u001b[0m\u001b[0;34m[\u001b[0m\u001b[0;34m:\u001b[0m\u001b[0;34m]\u001b[0m\u001b[0;34m\u001b[0m\u001b[0;34m\u001b[0m\u001b[0m\n",
      "\u001b[0;32m~/opt/miniconda3/lib/python3.8/inspect.py\u001b[0m in \u001b[0;36mgetfile\u001b[0;34m(object)\u001b[0m\n\u001b[1;32m    674\u001b[0m     \u001b[0;32mif\u001b[0m \u001b[0miscode\u001b[0m\u001b[0;34m(\u001b[0m\u001b[0mobject\u001b[0m\u001b[0;34m)\u001b[0m\u001b[0;34m:\u001b[0m\u001b[0;34m\u001b[0m\u001b[0;34m\u001b[0m\u001b[0m\n\u001b[1;32m    675\u001b[0m         \u001b[0;32mreturn\u001b[0m \u001b[0mobject\u001b[0m\u001b[0;34m.\u001b[0m\u001b[0mco_filename\u001b[0m\u001b[0;34m\u001b[0m\u001b[0;34m\u001b[0m\u001b[0m\n\u001b[0;32m--> 676\u001b[0;31m     raise TypeError('module, class, method, function, traceback, frame, or '\n\u001b[0m\u001b[1;32m    677\u001b[0m                     'code object was expected, got {}'.format(\n\u001b[1;32m    678\u001b[0m                     type(object).__name__))\n",
      "\u001b[0;31mTypeError\u001b[0m: module, class, method, function, traceback, frame, or code object was expected, got str"
     ]
    }
   ],
   "source": [
    "\n",
    "import ast\n",
    "\n",
    "def get_function_body2(file_path, function_name):\n",
    "    with open(file_path, \"r\") as file:\n",
    "        lines = file.readlines()\n",
    "\n",
    "    start_line = None\n",
    "    end_line = None\n",
    "\n",
    "    # Find the line numbers where the function starts and ends\n",
    "    for i, line in enumerate(lines):\n",
    "        if line.strip().startswith(\"def \" + function_name):\n",
    "            start_line = i\n",
    "        elif start_line is not None and line.strip() == \"\":\n",
    "            end_line = i\n",
    "            break\n",
    "\n",
    "    if start_line is not None and end_line is not None:\n",
    "        # Extract the lines of the function body\n",
    "        function_lines = lines[start_line:end_line]\n",
    "        # Remove leading indentation\n",
    "        function_lines = [line.lstrip() for line in function_lines]\n",
    "        # Join the lines to form the function body\n",
    "        function_body = \"\".join(function_lines)\n",
    "        return function_body\n",
    "    else:\n",
    "        return None\n",
    "\n",
    "def get_function_calls(function_def_node):\n",
    "    function_calls = []\n",
    "    for node in ast.walk(function_def_node):\n",
    "        if isinstance(node, ast.Call):\n",
    "            \n",
    "            function_calls.append(node)\n",
    "    return function_calls\n",
    "\n",
    "\n",
    "def get_function_body(file_path, function_name):\n",
    "    with open(file_path, \"r\") as file:\n",
    "        tree = ast.parse(file.read(), filename=file_path)\n",
    "    \n",
    "    # Find the function definition node\n",
    "    for node in ast.walk(tree):\n",
    "        if isinstance(node, ast.FunctionDef) and node.name == function_name:\n",
    "            # Extract the body of the function\n",
    "            return node\n",
    "            #return get_function_calls(node)\n",
    "            \n",
    "    # If the function is not found, return None\n",
    "    return None\n",
    "\n",
    "\n",
    "# Example usage\n",
    "file_path = ENDPOINT_ONE\n",
    "print(file_path)\n",
    "function_name = \"upload_user_activity_data\"\n",
    "function_body = get_function_body(file_path, function_name)\n",
    "if function_body is not None:\n",
    "    print(\"Function body:\")\n",
    "    print(inspect.getsource(function_body.))\n",
    "    #for statement in function_body:\n",
    "      #  print(ast.dump(statement))\n",
    "        #print(ast.dump(statement, True, False))\n",
    "        \n",
    "else:\n",
    "    print(f\"Function '{function_name}' not found in the file.\")"
   ]
  },
  {
   "cell_type": "markdown",
   "metadata": {},
   "source": [
    "Dreje bog for løsning af problemet. \n",
    "hvad har vi indtil videre: \n",
    "* Method in class. \n",
    "* module_name_from_file_path: where we get a current module name from a file path. \n",
    "* module_name_to_file_path: return file path from a module name as string. \n",
    "* imports_from_file(file): return array of all module import of a file\n",
    "* find_python_functions(file): Return functions in a python file. \n",
    "\n",
    "rutinen er følgende: \n",
    "\n",
    "1: Get a python function body from a path, where path is a string. \n",
    "\n",
    "\n"
   ]
  },
  {
   "cell_type": "code",
   "execution_count": 11,
   "metadata": {
    "colab": {
     "base_uri": "https://localhost:8080/"
    },
    "id": "COep0afM3Jb7",
    "outputId": "c5cd9cfa-2e23-46d2-a406-de1da9dc0eb3"
   },
   "outputs": [
    {
     "name": "stdout",
     "output_type": "stream",
     "text": [
      "['datetime', 'sqlalchemy', 'sqlalchemy', 'sqlalchemy.orm', 'sqlalchemy.orm.exc', 'wordstats', 'zeeguu.logging', 'zeeguu.core.bookmark_quality.fit_for_study', 'zeeguu.core.definition_of_learned', 'zeeguu.core.model', 'zeeguu.core.model.sorted_exercise_log', 'zeeguu.core.model.exercise', 'zeeguu.core.model.exercise_outcome', 'zeeguu.core.model.exercise_source', 'zeeguu.core.model.language', 'zeeguu.core.model.text', 'zeeguu.core.model.user', 'zeeguu.core.model.user_word', 'zeeguu.core.util.encoding', 'zeeguu', 'zeeguu.core.model']\n"
     ]
    }
   ],
   "source": [
    "# test\n",
    "print(imports_from_file(file_path('zeeguu/core/model/bookmark.py')))\n",
    "#print(imports_from_file(file_path('zeeguu/core/model/unique_code.py')))"
   ]
  },
  {
   "cell_type": "code",
   "execution_count": 142,
   "metadata": {},
   "outputs": [
    {
     "name": "stdout",
     "output_type": "stream",
     "text": [
      "foo\n",
      "<function MyClass.foo at 0x7f93c480baf0>\n",
      "<class 'str'>\n",
      "<class 'function'>\n",
      "z is 7\n",
      "None\n"
     ]
    }
   ],
   "source": [
    "txt = \"\"\"\n",
    "class MyClass():\n",
    "  def foo(x, y=2):\n",
    "      z = x*y + 3\n",
    "      print(\"z is\", z)\n",
    "      return z**2\n",
    "\"\"\"\n",
    "\n",
    "tree = ast.parse(txt, mode='exec')\n",
    "code = compile(tree, filename='blah', mode='exec')\n",
    "namespace = {}\n",
    "\n",
    "exec(code, namespace)\n",
    "val = \"foo\"\n",
    "dict_item = namespace[\"MyClass\"].__dict__.items()\n",
    "for x, y in list(dict_item):\n",
    "  if val == x:\n",
    "    print(x)\n",
    "    print(y)\n",
    "    print(type(x))\n",
    "    print(type(y))\n",
    "    y(2)\n",
    "    print(inspect.getmodule(y))\n",
    "    #print(inspect.getsourcelines(y))\n",
    "    #print(dir(y))"
   ]
  },
  {
   "cell_type": "code",
   "execution_count": 143,
   "metadata": {},
   "outputs": [
    {
     "name": "stdout",
     "output_type": "stream",
     "text": [
      "if x > 0:\n",
      "        return x\n",
      "    else:\n",
      "        return -x\n",
      "\n"
     ]
    }
   ],
   "source": [
    "import re\n",
    "\n",
    "def extract_function_body(func_string):\n",
    "    pattern = r'def\\s+\\w+\\s*\\(.*?\\)\\s*:\\s*(.*?)\\bdef\\s'\n",
    "    match = re.search(pattern, func_string, re.DOTALL)\n",
    "    if match:\n",
    "        return match.group(1)\n",
    "    else:\n",
    "        return None\n",
    "\n",
    "# Example usage:\n",
    "function_string = \"\"\"\n",
    "def my_function(x):\n",
    "    if x > 0:\n",
    "        return x\n",
    "    else:\n",
    "        return -x\n",
    "def another_function():\n",
    "    print(\"Another function\")\n",
    "\"\"\"\n",
    "\n",
    "body = extract_function_body(function_string)\n",
    "print(body)\n"
   ]
  },
  {
   "cell_type": "code",
   "execution_count": 146,
   "metadata": {},
   "outputs": [
    {
     "name": "stdout",
     "output_type": "stream",
     "text": [
      "if x > 0:\n",
      "        return x\n",
      "    else:\n",
      "        return -x\n",
      "\n"
     ]
    }
   ],
   "source": [
    "import re\n",
    "\n",
    "def extract_function_body(func_name, func_string):\n",
    "    pattern = r'def\\s+' + re.escape(func_name) + r'\\s*\\(.*?\\)\\s*:\\s*(.*?)\\bdef\\s'\n",
    "    match = re.search(pattern, func_string, re.DOTALL)\n",
    "    if match:\n",
    "        return match.group(1)\n",
    "    else:\n",
    "        return None\n",
    "\n",
    "# Example usage:\n",
    "function_string = \"\"\"\n",
    "def my_function(x):\n",
    "    if x > 0:\n",
    "        return x\n",
    "    else:\n",
    "        return -x\n",
    "def another_function():\n",
    "    print(\"Another function\")\n",
    "\"\"\"\n",
    "\n",
    "function_name = \"my_function\"\n",
    "body = extract_function_body(function_name, function_string)\n",
    "print(body)\n"
   ]
  }
 ],
 "metadata": {
  "colab": {
   "provenance": []
  },
  "kernelspec": {
   "display_name": "Python 3",
   "language": "python",
   "name": "python3"
  },
  "language_info": {
   "codemirror_mode": {
    "name": "ipython",
    "version": 3
   },
   "file_extension": ".py",
   "mimetype": "text/x-python",
   "name": "python",
   "nbconvert_exporter": "python",
   "pygments_lexer": "ipython3",
   "version": "3.8.5"
  }
 },
 "nbformat": 4,
 "nbformat_minor": 4
}
