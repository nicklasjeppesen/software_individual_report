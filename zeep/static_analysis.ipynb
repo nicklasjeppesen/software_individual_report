{
 "cells": [
  {
   "cell_type": "markdown",
   "metadata": {
    "id": "ASCHKm-WYHqy"
   },
   "source": [
    "# Case Study: Zeeguu/API - static analyze\n",
    "- Backend of a web application that supports [free reading in foreign languages](https://zeeguu.org)\n",
    "- Open source [repository on GH](https://github.com/zeeguu/API/)\n",
    "\n"
   ]
  },
  {
   "cell_type": "markdown",
   "metadata": {
    "id": "UpiozxqmVqUc"
   },
   "source": [
    "# Basic Data Gathering\n",
    "\n",
    "  - Basic used case, for creating a sequence diagram of the coding patch. \n",
    "\n",
    "  - file: `./zeeguu_core/model/user.py` <==>\n",
    "  - module: `zeeguu_core.model.User`\n",
    "\n",
    "\n"
   ]
  },
  {
   "cell_type": "code",
   "execution_count": 1,
   "metadata": {
    "colab": {
     "base_uri": "https://localhost:8080/"
    },
    "id": "Iykfb-UYnqux",
    "outputId": "73667590-20fa-4332-d935-dd90bb0c5a41"
   },
   "outputs": [
    {
     "name": "stdout",
     "output_type": "stream",
     "text": [
      "Requirement already satisfied: gitpython in /Users/nicklasjeppesen/anaconda3/lib/python3.11/site-packages (3.1.43)\n",
      "Requirement already satisfied: gitdb<5,>=4.0.1 in /Users/nicklasjeppesen/anaconda3/lib/python3.11/site-packages (from gitpython) (4.0.11)\n",
      "Requirement already satisfied: smmap<6,>=3.0.1 in /Users/nicklasjeppesen/anaconda3/lib/python3.11/site-packages (from gitdb<5,>=4.0.1->gitpython) (5.0.1)\n"
     ]
    },
    {
     "name": "stdout",
     "output_type": "stream",
     "text": [
      "Requirement already satisfied: pyvis in /Users/nicklasjeppesen/anaconda3/lib/python3.11/site-packages (0.3.2)\n",
      "Requirement already satisfied: ipython>=5.3.0 in /Users/nicklasjeppesen/anaconda3/lib/python3.11/site-packages (from pyvis) (8.15.0)\n",
      "Requirement already satisfied: jinja2>=2.9.6 in /Users/nicklasjeppesen/anaconda3/lib/python3.11/site-packages (from pyvis) (3.1.2)\n",
      "Requirement already satisfied: jsonpickle>=1.4.1 in /Users/nicklasjeppesen/anaconda3/lib/python3.11/site-packages (from pyvis) (3.0.4)\n",
      "Requirement already satisfied: networkx>=1.11 in /Users/nicklasjeppesen/anaconda3/lib/python3.11/site-packages (from pyvis) (3.1)\n",
      "Requirement already satisfied: backcall in /Users/nicklasjeppesen/anaconda3/lib/python3.11/site-packages (from ipython>=5.3.0->pyvis) (0.2.0)\n",
      "Requirement already satisfied: decorator in /Users/nicklasjeppesen/anaconda3/lib/python3.11/site-packages (from ipython>=5.3.0->pyvis) (5.1.1)\n",
      "Requirement already satisfied: jedi>=0.16 in /Users/nicklasjeppesen/anaconda3/lib/python3.11/site-packages (from ipython>=5.3.0->pyvis) (0.18.1)\n",
      "Requirement already satisfied: matplotlib-inline in /Users/nicklasjeppesen/anaconda3/lib/python3.11/site-packages (from ipython>=5.3.0->pyvis) (0.1.6)\n",
      "Requirement already satisfied: pickleshare in /Users/nicklasjeppesen/anaconda3/lib/python3.11/site-packages (from ipython>=5.3.0->pyvis) (0.7.5)\n",
      "Requirement already satisfied: prompt-toolkit!=3.0.37,<3.1.0,>=3.0.30 in /Users/nicklasjeppesen/anaconda3/lib/python3.11/site-packages (from ipython>=5.3.0->pyvis) (3.0.36)\n",
      "Requirement already satisfied: pygments>=2.4.0 in /Users/nicklasjeppesen/anaconda3/lib/python3.11/site-packages (from ipython>=5.3.0->pyvis) (2.15.1)\n",
      "Requirement already satisfied: stack-data in /Users/nicklasjeppesen/anaconda3/lib/python3.11/site-packages (from ipython>=5.3.0->pyvis) (0.2.0)\n",
      "Requirement already satisfied: traitlets>=5 in /Users/nicklasjeppesen/anaconda3/lib/python3.11/site-packages (from ipython>=5.3.0->pyvis) (5.7.1)\n",
      "Requirement already satisfied: pexpect>4.3 in /Users/nicklasjeppesen/anaconda3/lib/python3.11/site-packages (from ipython>=5.3.0->pyvis) (4.8.0)\n",
      "Requirement already satisfied: appnope in /Users/nicklasjeppesen/anaconda3/lib/python3.11/site-packages (from ipython>=5.3.0->pyvis) (0.1.2)\n",
      "Requirement already satisfied: MarkupSafe>=2.0 in /Users/nicklasjeppesen/anaconda3/lib/python3.11/site-packages (from jinja2>=2.9.6->pyvis) (2.1.1)\n",
      "Requirement already satisfied: parso<0.9.0,>=0.8.0 in /Users/nicklasjeppesen/anaconda3/lib/python3.11/site-packages (from jedi>=0.16->ipython>=5.3.0->pyvis) (0.8.3)\n",
      "Requirement already satisfied: ptyprocess>=0.5 in /Users/nicklasjeppesen/anaconda3/lib/python3.11/site-packages (from pexpect>4.3->ipython>=5.3.0->pyvis) (0.7.0)\n",
      "Requirement already satisfied: wcwidth in /Users/nicklasjeppesen/anaconda3/lib/python3.11/site-packages (from prompt-toolkit!=3.0.37,<3.1.0,>=3.0.30->ipython>=5.3.0->pyvis) (0.2.5)\n",
      "Requirement already satisfied: executing in /Users/nicklasjeppesen/anaconda3/lib/python3.11/site-packages (from stack-data->ipython>=5.3.0->pyvis) (0.8.3)\n",
      "Requirement already satisfied: asttokens in /Users/nicklasjeppesen/anaconda3/lib/python3.11/site-packages (from stack-data->ipython>=5.3.0->pyvis) (2.0.5)\n",
      "Requirement already satisfied: pure-eval in /Users/nicklasjeppesen/anaconda3/lib/python3.11/site-packages (from stack-data->ipython>=5.3.0->pyvis) (0.2.2)\n",
      "Requirement already satisfied: six in /Users/nicklasjeppesen/anaconda3/lib/python3.11/site-packages (from asttokens->stack-data->ipython>=5.3.0->pyvis) (1.16.0)\n"
     ]
    }
   ],
   "source": [
    "# Installing Required Dependencies\n",
    "import sys\n",
    "sys.version\n",
    "!{sys.executable} -m pip install gitpython\n",
    "!{sys.executable} -m pip install pyvis"
   ]
  },
  {
   "cell_type": "code",
   "execution_count": 2,
   "metadata": {
    "colab": {
     "base_uri": "https://localhost:8080/"
    },
    "id": "0ruTtX88Tb-w",
    "outputId": "4ef4ff72-737b-4bf7-bff4-303f4b9e890b"
   },
   "outputs": [
    {
     "name": "stdout",
     "output_type": "stream",
     "text": [
      "/Users/nicklasjeppesen/Desktop/software_individual_report/zeep\n"
     ]
    }
   ],
   "source": [
    "# In Collab our notebook runs in a temporary mounted file system\n",
    "# Let's print the name of the folder where our script runs\n",
    "import os\n",
    "cwd = os.getcwd()\n",
    "print(cwd)\n"
   ]
  },
  {
   "cell_type": "code",
   "execution_count": 3,
   "metadata": {
    "id": "Ssb7D6FsoD6F"
   },
   "outputs": [],
   "source": [
    "# Let's declare a var for the path where we're going to download a repository\n",
    "# Warning: this must end in /\n",
    "CODE_ROOT_FOLDER=cwd+\"/content/zeeguu_api/\"\n"
   ]
  },
  {
   "cell_type": "code",
   "execution_count": 4,
   "metadata": {
    "id": "NeJVTDwroSxt"
   },
   "outputs": [],
   "source": [
    "from git import Repo\n",
    "# GitPython is a library that allows us to work easily with git from Python\n",
    "# https://gitpython.readthedocs.io/en/stable/tutorial.html\n",
    "\n",
    "\n",
    "# If the file exists, it means we've already downloaded\n",
    "#if not os.path.exists(CODE_ROOT_FOLDER):\n",
    "if not os.path.exists(CODE_ROOT_FOLDER):\n",
    "  Repo.clone_from(\"https://github.com/zeeguu/api\", CODE_ROOT_FOLDER)\n"
   ]
  },
  {
   "cell_type": "code",
   "execution_count": 5,
   "metadata": {},
   "outputs": [
    {
     "data": {
      "text/plain": [
       "True"
      ]
     },
     "execution_count": 5,
     "metadata": {},
     "output_type": "execute_result"
    }
   ],
   "source": [
    "ENDPOINT_ONE = CODE_ROOT_FOLDER+\"zeeguu/api/endpoints/activity_tracking.py\"\n",
    "ENDPOINT_TWO = CODE_ROOT_FOLDER+\"zeeguu/api/endpoints/user_articles.py\"\n",
    "os.path.exists(ENDPOINT_ONE)\n",
    "os.path.exists(ENDPOINT_TWO)"
   ]
  },
  {
   "cell_type": "markdown",
   "metadata": {},
   "source": [
    "# Code library: \n",
    "\n"
   ]
  },
  {
   "cell_type": "code",
   "execution_count": 6,
   "metadata": {
    "colab": {
     "base_uri": "https://localhost:8080/"
    },
    "id": "1C9goF1zob_U",
    "outputId": "4949cf95-0886-4271-f829-4794675e5388"
   },
   "outputs": [],
   "source": [
    "# naïve way of extracting imports using regular expressions\n",
    "import re\n",
    "import builtins\n",
    "\n",
    "def getFileContentFromPath(file_path): \n",
    "    with open(file_path, 'r') as file:\n",
    "        file_content = file.read()\n",
    "    return file_content\n",
    "\n",
    "# extracting a module name from a file name\n",
    "# e.g. ../core/model/user.py -> zeeguu.core.model.user\n",
    "def module_name_from_file_path(full_path):   \n",
    "    file_name = full_path[len(CODE_ROOT_FOLDER):]\n",
    "    file_name = file_name.replace(\"/__init__.py\",\"\")\n",
    "    file_name = file_name.replace(\"/\",\".\")\n",
    "    file_name = file_name.replace(\".py\",\"\")\n",
    "    return file_name\n",
    "\n",
    "\n",
    "# extracting a module name from a file name\n",
    "# e.g. 'zeeguu.core.model.user' --> cwd+/content/zeeguu-api/zeeguu/core/model/user.py \n",
    "# There can be two issues: \n",
    "# 1: if the module also include a functionCall, then we shall remove it. \n",
    "# 2: if the class named, is not equal the fileName, then we shall check the init file, the find the file name. \n",
    "\n",
    "def getCorrectFileNameFromInitFile(init_path, className): \n",
    "    lines = [line for line in open(init_path)]\n",
    "    for line in lines:\n",
    "        imp = className in line\n",
    "\n",
    "        if imp: \n",
    "            lineSplit = line.split(\" \")\n",
    "            newLine = lineSplit[1]\n",
    "            newLine = newLine.replace(\".\", \"\")\n",
    "            return newLine\n",
    "            \n",
    "# extracting a module name from a file name\n",
    "# e.g. 'zeeguu.core.model.user' --> cwd+/content/zeeguu-api/zeeguu/core/model/user.py \n",
    "# There can be two issues: \n",
    "# 1: if the module also include a functionCall, then we shall remove it. \n",
    "# 2: if the class named, is not equal the fileName, then we shall check the init file, the find the file name. \n",
    "def file_path_from_module_name(module_name):\n",
    "    file_name = module_name.replace(\".\",\"/\")\n",
    "    firstTry = cwd+\"/content/zeeguu-api/\"+file_name+\".py\"\n",
    "   \n",
    "    if(os.path.exists(firstTry)): # check if modulename, is correct file path.  \n",
    "        return firstTry\n",
    "   \n",
    "    # problem 1: try to remove function name, from file/class name, so we only have, module and class/file name. \n",
    "    firstTry = cwd+\"/content/zeeguu-api/\"+file_name # removing the .py, for easier manipulate the path later. \n",
    "    recon = firstTry.rsplit(\"/\", 1)\n",
    "    if(not os.path.isdir(recon[0])): \n",
    "        #print(\"is a folder\")\n",
    "        recon = recon[0].rsplit(\"/\", 1)\n",
    "        if(not os.path.isdir(recon[0])): \n",
    "            return None # I dont know what to do longer, so give up. \n",
    "    \n",
    "    # problem 2: hope, module is equal fileName, but not sure. \n",
    "    retryTwo = recon[0]+\"/\"+recon[1]+\".py\"\n",
    "    if(os.path.exists(retryTwo)): # if True, then the className/filename/Module name is correct. \n",
    "       return retryTwo\n",
    "\n",
    "    init_path = recon[0]+\"/__init__.py\"\n",
    "    correctFileName = getCorrectFileNameFromInitFile(init_path, recon[1])\n",
    "    \n",
    "    if not correctFileName: \n",
    "        return None\n",
    "    retryThree = recon[0]+\"/\"+correctFileName+\".py\"\n",
    "    if(os.path.exists(retryThree)): \n",
    "        return retryThree\n",
    "    return None\n",
    " \n",
    "\n",
    "# helper function to get a file path w/o having to always provide the /content/zeeguu-api/ prefix\n",
    "def file_path(file_name):\n",
    "    return CODE_ROOT_FOLDER+file_name\n",
    "\n",
    "#assert 'zeeguu.core.model.user' == module_name_from_file_path(file_path('zeeguu/core/model/user.py'))\n",
    "\n",
    "# we assume that imports are always at the\n",
    "# MODIFIED, \n",
    "#   SO IT RETURN IMPORT FROM OTHER PARTS OF THE ZEEGUU CODE BASED. \n",
    "#   Also, it return an array, instead of a single \n",
    "def import_from_line(line):\n",
    "    # regex patterns used\n",
    "    #   ^  - beginning of line\n",
    "    #   \\S - anything that is not space\n",
    "    #   +  - at least one occurrence of previous\n",
    "    #  ( ) - capture group (read more at: https://pynative.com/python-regex-capturing-groups/)\n",
    "    finalArray = []\n",
    "    try:\n",
    "      y = re.search(\"^from (\\S+)\", line)\n",
    "      if y:\n",
    "        \n",
    "        for item in getImportedModules(line): \n",
    "            #print(item)\n",
    "            if(item.startswith(\"zeeguu\")):\n",
    "                finalArray.append(item)\n",
    "      else:\n",
    "        y = re.search(\"^import (\\S+)\", line)\n",
    "        if y.group(1).startswith(\"zeeguu\"):\n",
    "            finalArray.append(y.group(1))\n",
    "      #if(module.startswith(\"zeeguu\")): \n",
    "       # return module\n",
    "     # else:\n",
    "      #  return None\n",
    "      #return y.group(1)\n",
    "    except:\n",
    "      return finalArray\n",
    "    return finalArray\n",
    "\n",
    "def getImportedModules(text2):\n",
    "    y = re.search(\"^from (\\S+)\", text2)\n",
    "    if y: \n",
    "        print(text2)\n",
    "        basisModule = y.group(1)\n",
    "        #basisModule = basisModule#.replace(\"(\", \"\").replace(\")\", \"\").strip()\n",
    "        finalModuleList = []\n",
    "        pattern = r\"from\\s+[\\w.]+\\s+import\\s+([\\w\\s,]+)\"\n",
    "        match = re.search(pattern, text2)\n",
    "        if match:\n",
    "            imported_items_str = match.group(1)\n",
    "            imported_items = [item.strip() for item in imported_items_str.split(\",\")]\n",
    "            print(imported_items)\n",
    "            for item in imported_items: \n",
    "                finalModuleList.append(basisModule+\".\"+item)\n",
    "            return finalModuleList\n",
    "        else:\n",
    "            return []\n",
    "        \n",
    "\n",
    "\n",
    "# extracts all the imported modules from a file\n",
    "# returns a module of the form zeeguu_core.model.bookmark, e.g.\n",
    "def imports_from_file(file):\n",
    "    all_imports = []\n",
    "    lines = [line for line in open(file)]\n",
    "\n",
    "    for line in lines:\n",
    "        imp = import_from_line(line)\n",
    "\n",
    "        if imp:\n",
    "            #all_imports.append(imp)\n",
    "            for item in imp: \n",
    "                all_imports.append(item)\n",
    "\n",
    "    return all_imports\n",
    "\n",
    "#imports_from_file(file_path('/zeeguu/core/model/user.py'))\n",
    "#imports_from_file(file_path('/zeeguu/api/endpoints/activity_tracking.py'))\n",
    "\n",
    "\n",
    "# Find all functions, defined with def first, from a text file. \n",
    "def find_python_functions(file):\n",
    "    pattern = r\"def\\s+([a-zA-Z_][a-zA-Z0-9_]*)\\s*\\([^()]*\\)\\s*:\"\n",
    "    matches = re.findall(pattern, file)\n",
    "    return matches\n",
    "\n",
    "\n",
    "# Return a function body from string, where the string can be a string of a class and not. \n",
    "def extract_function_body(func_name, func_string):\n",
    "    #pattern = r'def\\s+' + re.escape(func_name) + r'\\s*\\(.*?\\)\\s*:\\s*(.*?)\\bdef\\s'\n",
    "    #pattern = rf\"def\\s+{func_name}\\s*\\(\\s*\\):(\\s*\\n\\s*\\\"\\\"\\\".*?\\\"\\\"\\\")?\\s*(.*?)\\bdef\\s\"\n",
    "    pattern = \"(def*\\W(\"+func_name+\"+)([\\w\\W]*?))(?=(def)|$)\"\n",
    "\n",
    "    match = re.search(pattern, func_string, re.DOTALL)\n",
    "    if match:\n",
    "        return match.group(1)\n",
    "    else:\n",
    "        return None\n",
    "\n",
    "# Return a list of called functions from a function as string    \n",
    "def getCalledfunction(source_code):\n",
    "   \n",
    "    builtinsFunctions = dir(__builtins__)\n",
    "    called_functions = []\n",
    "\n",
    "    # Define the regex pattern to match function calls\n",
    "    function_call_pattern = r'(\\w+)\\('\n",
    "    # Find all matches of function calls in the source code\n",
    "    matches = re.findall(function_call_pattern, source_code)\n",
    "\n",
    "    # Filter out function names that are not defined in the global scope\n",
    "    for match in matches:\n",
    "        if match not in builtinsFunctions:# and callable(globals()[match]):\n",
    "            called_functions.append(match)\n",
    "    return called_functions\n",
    " \n",
    "\n",
    "# return a new list, of function there exists in the modules list. \n",
    "def GetAllRealFilePath(list_of_functions: list, modules: list): \n",
    "    functions_that_exists = []\n",
    "    for func in list_of_functions: \n",
    "        for module in modules: \n",
    "            try: \n",
    "                mini_file_path = file_path_from_module_name(module) # return a specific file path, for a given module. \n",
    "                file_content = getFileContentFromPath(mini_file_path)\n",
    "               \n",
    "                functions_in_folder = find_python_functions(file_content)\n",
    "                if func in functions_in_folder: \n",
    "                    functions_that_exists.append(func)\n",
    "                    break\n",
    "            except: \n",
    "                print(\"error at module: \" + module)\n",
    "                print(\"error at function: \" + func)\n",
    "    return functions_that_exists\n",
    "\n"
   ]
  },
  {
   "cell_type": "markdown",
   "metadata": {},
   "source": [
    "Dreje bog for løsning af problemet. \n",
    "hvad har vi indtil videre: \n",
    "\n",
    "* Nuværende problem: hvis from.. bliver gjort over flere linjer, med (), så er jeg fuckt. \n",
    "\n",
    "* module_name_from_file_path: where we get a current module name from a file path. \n",
    "* file_path_from_module_name: return file path from a module name as string. \n",
    "* imports_from_file(file): return array of all module import of a file, where module is from zeguu, otherwise empty. \n",
    "* find_python_functions(file): # Find all functions, defined with def first, from a text file. \n",
    "* extract_function_body(func_name, func_string): Return a function body from string, where the string can be a string of a class and not. \n",
    "* getCalledfunction(source_code): Return a list of called functions from a function as string    \n",
    "* getFileContentFromPath(file_path): get content of file by a file path. \n",
    "\n",
    "Process: \n",
    "\n",
    "1: Get the function body of the examing function by codepath to the file and def name. \n",
    "    * function body: getFileContentFromPath, extract_function_body(func_name, filecontent)\n",
    "2: Get a list of all calling functions in that function: \n",
    "    * list of calling functions: getCalledfunction(source_code):\n",
    "3: foreach called functions, \n",
    "    if they are in one of zeeguu module, \n",
    "        get filepath by module name, and call recusive, just to print, calling hiracy. \n",
    "        Next, return a calling node, of functions. \n",
    "\n",
    "\n",
    "master function: \n",
    "    def masterfunction(file_path, function_name): \n",
    "        Execute. \n",
    "\n",
    "\n"
   ]
  },
  {
   "cell_type": "code",
   "execution_count": 13,
   "metadata": {},
   "outputs": [
    {
     "name": "stdout",
     "output_type": "stream",
     "text": [
      "/Users/nicklasjeppesen/Desktop/software_individual_report/zeep/content/zeeguu_api/zeeguu/api/endpoints/activity_tracking.py\n",
      "from flask import request\n",
      "\n",
      "['request']\n",
      "from zeeguu.core.user_activity_hooks.article_interaction_hooks import distill_article_interactions\n",
      "\n",
      "['distill_article_interactions']\n",
      "from . import api, db_session\n",
      "\n",
      "['api', 'db_session']\n",
      "from zeeguu.api.utils.route_wrappers import cross_domain, with_session\n",
      "\n",
      "['cross_domain', 'with_session']\n",
      "from zeeguu.core.model import UserActivityData\n",
      "\n",
      "['UserActivityData']\n",
      "['create_from_post_data', 'get', 'distill_article_interactions', 'get', 'notify_audio_experiment']\n",
      "['zeeguu.core.user_activity_hooks.article_interaction_hooks.distill_article_interactions', 'zeeguu.api.utils.route_wrappers.cross_domain', 'zeeguu.api.utils.route_wrappers.with_session', 'zeeguu.core.model.UserActivityData']\n",
      "['create_from_post_data', 'distill_article_interactions']\n"
     ]
    }
   ],
   "source": [
    "# used of  code library: \n",
    "\n",
    "func_name = \"upload_user_activity_data\"\n",
    "local_endpoint = ENDPOINT_ONE\n",
    "print(local_endpoint)\n",
    "        \n",
    "def masterFunction(func_name, endpoint):\n",
    "    codeContent = getFileContentFromPath(endpoint) \n",
    "    funcBody = extract_function_body(func_name, codeContent)\n",
    "\n",
    "    CalingFunctions = getCalledfunction(funcBody) # return a list of calling functions ex. ['upload_user_activity_data', 'create_from_post_data', 'get', 'distill_article_interactions', 'get', 'notify_audio_experiment']\n",
    "    if func_name in CalingFunctions: CalingFunctions.remove(func_name)\n",
    "    ImportedModules = imports_from_file(endpoint) # return list of modules (might be functionNames in them) ex. ['zeeguu.api.utils.route_wrappers.cross_domain', 'zeeguu.api.utils.route_wrappers.with_session', 'zeeguu.core.model.UserActivityData']\n",
    "\n",
    "    # First print the dependcy, thereafter their Dependicy.\n",
    "    #print(func_name + \": Depends on the folling modules\")\n",
    "    #print(ImportedModules)     \n",
    "\n",
    "    \n",
    "    # ex function name. \n",
    "    ex_function = \"create_from_post_data\"\n",
    "    ex_module = \"zeeguu.core.model.UserActivityData\"\n",
    "    #ImportedModules = imports_from_file(endpoint)[0] # return list of modules (might be functionNames in them) ex. ['zeeguu.api.utils.route_wrappers.cross_domain', 'zeeguu.api.utils.route_wrappers.with_session', 'zeeguu.core.model.UserActivityData']\n",
    "    #mini_file_path = file_path_from_module_name(ImportedModules) # return a specific file path, for a given module. \n",
    "    \n",
    "    print(CalingFunctions)\n",
    "    print(ImportedModules)\n",
    "\n",
    "    realFunctions = GetAllRealFilePath(CalingFunctions, ImportedModules)\n",
    "    \n",
    "    return realFunctions\n",
    "    \n",
    "result = masterFunction(func_name, local_endpoint)\n",
    "\n",
    "print(result)\n",
    "\n",
    "\n"
   ]
  },
  {
   "cell_type": "code",
   "execution_count": 8,
   "metadata": {},
   "outputs": [
    {
     "name": "stdout",
     "output_type": "stream",
     "text": [
      "True\n",
      "True\n",
      "True\n",
      "user_activitiy_data\n"
     ]
    }
   ],
   "source": [
    "#ef_is_correct_file_path(filepath)\n",
    "\n",
    "path = \"/Users/nicklasjeppesen/Desktop/software_individual_report/zeep/content/zeeguu-api/zeeguu/core/model\"\n",
    "init_path = path+\"/__init__.py\"\n",
    "className = \"UserActivityData\"\n",
    "\n",
    "print(os.path.isdir(path))\n",
    "\n",
    "print(os.path.exists(init_path))\n",
    "\n",
    "#print(getFileContentFromPath(init_path)) \n",
    "lines = [line for line in open(init_path)]\n",
    "for line in lines:\n",
    "    imp = className in line\n",
    "\n",
    "    if imp: \n",
    "        print(True)\n",
    "        lineSplit = line.split(\" \")\n",
    "        newLine = lineSplit[1]\n",
    "        newLine = newLine.replace(\".\", \"\")\n",
    "        print(newLine)\n",
    "        break\n",
    "\n",
    "\n"
   ]
  },
  {
   "cell_type": "code",
   "execution_count": 9,
   "metadata": {},
   "outputs": [
    {
     "name": "stdout",
     "output_type": "stream",
     "text": [
      "/Users/nicklasjeppesen/Desktop/software_individual_report/zeep/content/zeeguu-api/zeeguu/core/model/user_activitiy_data.py\n",
      "/Users/nicklasjeppesen/Desktop/software_individual_report/zeep/content/zeeguu-api/zeeguu/api/utils/route_wrappers.py\n"
     ]
    }
   ],
   "source": [
    "import os \n",
    "\n",
    "def getCorrectFileNameFromInitFile(init_path, className): \n",
    "    lines = [line for line in open(init_path)]\n",
    "    for line in lines:\n",
    "        imp = className in line\n",
    "\n",
    "        if imp: \n",
    "            lineSplit = line.split(\" \")\n",
    "            newLine = lineSplit[1]\n",
    "            newLine = newLine.replace(\".\", \"\")\n",
    "            return newLine\n",
    "            \n",
    "# extracting a module name from a file name\n",
    "# e.g. 'zeeguu.core.model.user' --> cwd+/content/zeeguu-api/zeeguu/core/model/user.py \n",
    "# There can be two issues: \n",
    "# 1: if the module also include a functionCall, then we shall remove it. \n",
    "# 2: if the class named, is not equal the fileName, then we shall check the init file, the find the file name. \n",
    "def file_path_from_module_name(module_name):\n",
    "    file_name = module_name.replace(\".\",\"/\")\n",
    "    firstTry = cwd+\"/content/zeeguu-api/\"+file_name+\".py\"\n",
    "   \n",
    "    if(os.path.exists(firstTry)): # check if modulename, is correct file path.  \n",
    "        return firstTry\n",
    "   \n",
    "    # problem 1: try to remove function name, from file/class name, so we only have, module and class/file name. \n",
    "    firstTry = cwd+\"/content/zeeguu-api/\"+file_name # removing the .py, for easier manipulate the path later. \n",
    "    recon = firstTry.rsplit(\"/\", 1)\n",
    "    if(not os.path.isdir(recon[0])): \n",
    "        #print(\"is a folder\")\n",
    "        recon = recon[0].rsplit(\"/\", 1)\n",
    "        if(not os.path.isdir(recon[0])): \n",
    "            return None # I dont know what to do longer, so give up. \n",
    "    \n",
    "    # problem 2: hope, module is equal fileName, but not sure. \n",
    "    retryTwo = recon[0]+\"/\"+recon[1]+\".py\"\n",
    "    if(os.path.exists(retryTwo)): # if True, then the className/filename/Module name is correct. \n",
    "       return retryTwo\n",
    "\n",
    "    init_path = recon[0]+\"/__init__.py\"\n",
    "    correctFileName = getCorrectFileNameFromInitFile(init_path, recon[1])\n",
    "    \n",
    "    if not correctFileName: \n",
    "        return None\n",
    "    retryThree = recon[0]+\"/\"+correctFileName+\".py\"\n",
    "    if(os.path.exists(retryThree)): \n",
    "        return retryThree\n",
    "    return None\n",
    "    \n",
    "\n",
    "path = \"zeeguu/core/model/UserActivityData\"\n",
    "print(file_path_from_module_name(path))\n",
    "\n",
    "testingPath = \"zeeguu/api/utils/route_wrappers/cross_domain\" #with functionName, \n",
    "print(file_path_from_module_name(testingPath))\n"
   ]
  },
  {
   "cell_type": "code",
   "execution_count": 10,
   "metadata": {},
   "outputs": [],
   "source": [
    "\n",
    "dd = file_path(\"zeeguu/core/model/bookmark.py\")\n",
    "\n",
    "#print(imports_from_file(file_path(\"zeeguu/core/model/bookmark.py\")))\n",
    "\n",
    "#lines = Path(dd).read_text()\n",
    "#result = find_python_functions(lines) # return list of functions. \n",
    "\n",
    "\n",
    "\n",
    "\n",
    "\n",
    "\n"
   ]
  },
  {
   "cell_type": "markdown",
   "metadata": {},
   "source": [
    "# EXAMPLES OF FUNCTIONS. "
   ]
  },
  {
   "cell_type": "code",
   "execution_count": 11,
   "metadata": {},
   "outputs": [
    {
     "ename": "NameError",
     "evalue": "name 'ast' is not defined",
     "output_type": "error",
     "traceback": [
      "\u001b[0;31m---------------------------------------------------------------------------\u001b[0m",
      "\u001b[0;31mNameError\u001b[0m                                 Traceback (most recent call last)",
      "Cell \u001b[0;32mIn[11], line 14\u001b[0m\n\u001b[1;32m      4\u001b[0m builtinsFunctions \u001b[38;5;241m=\u001b[39m \u001b[38;5;28mdir\u001b[39m(__builtins__)\n\u001b[1;32m      6\u001b[0m txt \u001b[38;5;241m=\u001b[39m \u001b[38;5;124m\"\"\"\u001b[39m\n\u001b[1;32m      7\u001b[0m \u001b[38;5;124mclass MyClass():\u001b[39m\n\u001b[1;32m      8\u001b[0m \u001b[38;5;124m  def foo(x, y=2):\u001b[39m\n\u001b[0;32m   (...)\u001b[0m\n\u001b[1;32m     11\u001b[0m \u001b[38;5;124m      return z**2\u001b[39m\n\u001b[1;32m     12\u001b[0m \u001b[38;5;124m\"\"\"\u001b[39m\n\u001b[0;32m---> 14\u001b[0m tree \u001b[38;5;241m=\u001b[39m ast\u001b[38;5;241m.\u001b[39mparse(txt, mode\u001b[38;5;241m=\u001b[39m\u001b[38;5;124m'\u001b[39m\u001b[38;5;124mexec\u001b[39m\u001b[38;5;124m'\u001b[39m)\n\u001b[1;32m     15\u001b[0m code \u001b[38;5;241m=\u001b[39m \u001b[38;5;28mcompile\u001b[39m(tree, filename\u001b[38;5;241m=\u001b[39m\u001b[38;5;124m'\u001b[39m\u001b[38;5;124mblah\u001b[39m\u001b[38;5;124m'\u001b[39m, mode\u001b[38;5;241m=\u001b[39m\u001b[38;5;124m'\u001b[39m\u001b[38;5;124mexec\u001b[39m\u001b[38;5;124m'\u001b[39m)\n\u001b[1;32m     16\u001b[0m namespace \u001b[38;5;241m=\u001b[39m {}\n",
      "\u001b[0;31mNameError\u001b[0m: name 'ast' is not defined"
     ]
    }
   ],
   "source": [
    "import inspect\n",
    "import builtins\n",
    "\n",
    "builtinsFunctions = dir(__builtins__)\n",
    "\n",
    "txt = \"\"\"\n",
    "class MyClass():\n",
    "  def foo(x, y=2):\n",
    "      z = x*y + 3\n",
    "      print(\"z is\", z)\n",
    "      return z**2\n",
    "\"\"\"\n",
    "\n",
    "tree = ast.parse(txt, mode='exec')\n",
    "code = compile(tree, filename='blah', mode='exec')\n",
    "namespace = {}\n",
    "\n",
    "exec(code, namespace)\n",
    "val = \"foo\"\n",
    "dict_item = namespace[\"MyClass\"].__dict__.items()\n",
    "for x, y in list(dict_item):\n",
    "  if val == x:\n",
    "    print(x)\n",
    "    print(y)\n",
    "    print(type(x))\n",
    "    print(type(y))\n",
    "    y(2)\n",
    "    print(inspect.getmodule(y))\n",
    "    #print(inspect.getsourcelines(y))\n",
    "    #print(dir(y))"
   ]
  },
  {
   "cell_type": "code",
   "execution_count": null,
   "metadata": {},
   "outputs": [
    {
     "data": {
      "text/plain": [
       "'\\nif x > 0:\\n        return x\\n    else:\\n        return -x\\n'"
      ]
     },
     "execution_count": 301,
     "metadata": {},
     "output_type": "execute_result"
    }
   ],
   "source": [
    "'''\n",
    "import re\n",
    "\n",
    "def extract_function_body(func_string):\n",
    "    pattern = r'def\\s+\\w+\\s*\\(.*?\\)\\s*:\\s*(.*?)\\bdef\\s'\n",
    "    match = re.search(pattern, func_string, re.DOTALL)\n",
    "    if match:\n",
    "        return match.group(1)\n",
    "    else:\n",
    "        return None\n",
    "\n",
    "# Example usage:\n",
    "function_string = \"\"\"\n",
    "def my_function(x):\n",
    "    if x > 0:\n",
    "        return x\n",
    "    else:\n",
    "        return -x\n",
    "def another_function():\n",
    "    print(\"Another function\")\n",
    "\"\"\"\n",
    "\n",
    "body = extract_function_body(function_string)\n",
    "print(body)\n",
    "'''\n",
    "#print \n",
    "'''\n",
    "if x > 0:\n",
    "        return x\n",
    "    else:\n",
    "        return -x\n",
    "'''"
   ]
  },
  {
   "cell_type": "code",
   "execution_count": null,
   "metadata": {},
   "outputs": [
    {
     "name": "stdout",
     "output_type": "stream",
     "text": [
      "def my_class_func_a():\n",
      "        #print(\"Inside func_a\")\n",
      "        myclass_func_b()\n",
      "\n",
      "    \n",
      "['my_class_func_a', 'myclass_func_b']\n"
     ]
    }
   ],
   "source": [
    "import re\n",
    "\n",
    "# Example usage:\n",
    "function_string = \"\"\"\n",
    "def my_function(x):\n",
    "    if x > 0:\n",
    "        return x\n",
    "    else:\n",
    "        return -x\n",
    "def another_function():\n",
    "    print(\"Another function\")\n",
    "\"\"\"\n",
    "\n",
    "text = \"\"\"\n",
    "class myCLass: \n",
    "    def my_class_func_a():\n",
    "        #print(\"Inside func_a\")\n",
    "        myclass_func_b()\n",
    "\n",
    "    def myclass_func_b():\n",
    "        print(\"Inside func_b\")\n",
    "\"\"\"\n",
    "\n",
    "function_name = \"my_function\"\n",
    "body = extract_function_body(function_name, function_string)\n",
    "body2 = extract_function_body(\"my_class_func_a\", text)\n",
    "print(body2)\n",
    "print(getCalledfunction(body2))\n"
   ]
  },
  {
   "cell_type": "markdown",
   "metadata": {},
   "source": [
    "# ARCHIVE CODE "
   ]
  },
  {
   "cell_type": "code",
   "execution_count": null,
   "metadata": {},
   "outputs": [
    {
     "data": {
      "text/plain": [
       "\"\\ndef methods_in_class(cls):\\n\\treturn [\\n\\t\\t(name, object) \\n\\t\\tfor (name, object) \\n\\t\\t\\tin cls.__dict__.items() \\n\\t\\tif hasattr(object, '__call__')]\\n#methods_in_class(Foo) \""
      ]
     },
     "execution_count": 303,
     "metadata": {},
     "output_type": "execute_result"
    }
   ],
   "source": [
    "# ARCHIVE CODE LIBS \n",
    "\n",
    "'''\n",
    "def methods_in_class(cls):\n",
    "\treturn [\n",
    "\t\t(name, object) \n",
    "\t\tfor (name, object) \n",
    "\t\t\tin cls.__dict__.items() \n",
    "\t\tif hasattr(object, '__call__')]\n",
    "#methods_in_class(Foo) '''\n",
    "\n",
    "\n"
   ]
  },
  {
   "cell_type": "code",
   "execution_count": null,
   "metadata": {},
   "outputs": [
    {
     "name": "stdout",
     "output_type": "stream",
     "text": [
      "/Users/nicklasjeppesen/Desktop/software_individual_report/zeep/content/zeeguu_api/zeeguu/api/endpoints/activity_tracking.py\n",
      "Function body:\n"
     ]
    }
   ],
   "source": [
    "\n",
    "import ast\n",
    "\n",
    "def get_function_body2(file_path, function_name):\n",
    "    with open(file_path, \"r\") as file:\n",
    "        lines = file.readlines()\n",
    "\n",
    "    start_line = None\n",
    "    end_line = None\n",
    "\n",
    "    # Find the line numbers where the function starts and ends\n",
    "    for i, line in enumerate(lines):\n",
    "        if line.strip().startswith(\"def \" + function_name):\n",
    "            start_line = i\n",
    "        elif start_line is not None and line.strip() == \"\":\n",
    "            end_line = i\n",
    "            break\n",
    "\n",
    "    if start_line is not None and end_line is not None:\n",
    "        # Extract the lines of the function body\n",
    "        function_lines = lines[start_line:end_line]\n",
    "        # Remove leading indentation\n",
    "        function_lines = [line.lstrip() for line in function_lines]\n",
    "        # Join the lines to form the function body\n",
    "        function_body = \"\".join(function_lines)\n",
    "        return function_body\n",
    "    else:\n",
    "        return None\n",
    "\n",
    "def get_function_calls(function_def_node):\n",
    "    function_calls = []\n",
    "    for node in ast.walk(function_def_node):\n",
    "        if isinstance(node, ast.Call):\n",
    "            \n",
    "            function_calls.append(node)\n",
    "    return function_calls\n",
    "\n",
    "\n",
    "def get_function_body(file_path, function_name):\n",
    "    with open(file_path, \"r\") as file:\n",
    "        tree = ast.parse(file.read(), filename=file_path)\n",
    "    \n",
    "    # Find the function definition node\n",
    "    for node in ast.walk(tree):\n",
    "        if isinstance(node, ast.FunctionDef) and node.name == function_name:\n",
    "            # Extract the body of the function\n",
    "            return node\n",
    "            #return get_function_calls(node)\n",
    "            \n",
    "    # If the function is not found, return None\n",
    "    return None\n",
    "\n",
    "\n",
    "# Example usage\n",
    "file_path = ENDPOINT_ONE\n",
    "print(file_path)\n",
    "function_name = \"upload_user_activity_data\"\n",
    "function_body = get_function_body(file_path, function_name)\n",
    "if function_body is not None:\n",
    "    print(\"Function body:\")\n",
    "    \n",
    "    #for statement in function_body:\n",
    "      #  print(ast.dump(statement))\n",
    "        #print(ast.dump(statement, True, False))\n",
    "        \n",
    "else:\n",
    "    print(f\"Function '{function_name}' not found in the file.\")"
   ]
  },
  {
   "cell_type": "code",
   "execution_count": null,
   "metadata": {},
   "outputs": [
    {
     "name": "stdout",
     "output_type": "stream",
     "text": [
      "/Users/nicklasjeppesen/Desktop/software_individual_report/zeep/content/zeeguu-api/zeeguu/core/model/user.py\n"
     ]
    },
    {
     "data": {
      "text/plain": [
       "'/Users/nicklasjeppesen/Desktop/software_individual_report/zeep/content/zeeguu-api/zeeguu/core/model/user.py'"
      ]
     },
     "execution_count": 305,
     "metadata": {},
     "output_type": "execute_result"
    }
   ],
   "source": [
    "import ast\n",
    "import importlib\n",
    "import importlib.util\n",
    "\n",
    "f = open(cwd+\"/content/zeeguu-api/zeeguu/core/model/user.py\")\n",
    "user_ast = ast.parse(f.read())\n",
    "#print(user_ast.body[0])  \n",
    "print(cwd+\"/content/zeeguu-api/zeeguu/core/model/user.py\")\n",
    "stringmodule = module_name_from_file_path(cwd+\"/content/zeeguu-api/zeeguu/core/model/user.py\")\n",
    "\n",
    "file_path_from_module_name(stringmodule)\n",
    "\n",
    "\n",
    "#for node in ast.walk(user_ast):\n",
    "   # print(node.__dict__)\n",
    "   #print(\"children: \" + str([x for x in ast.iter_child_nodes(node)]) + \"\\\\n\")\n",
    "\n"
   ]
  }
 ],
 "metadata": {
  "colab": {
   "provenance": []
  },
  "kernelspec": {
   "display_name": "Python 3",
   "language": "python",
   "name": "python3"
  },
  "language_info": {
   "codemirror_mode": {
    "name": "ipython",
    "version": 3
   },
   "file_extension": ".py",
   "mimetype": "text/x-python",
   "name": "python",
   "nbconvert_exporter": "python",
   "pygments_lexer": "ipython3",
   "version": "3.11.5"
  }
 },
 "nbformat": 4,
 "nbformat_minor": 4
}
